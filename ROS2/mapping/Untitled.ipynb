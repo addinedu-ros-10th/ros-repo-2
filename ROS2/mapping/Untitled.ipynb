{
 "cells": [
  {
   "cell_type": "code",
   "execution_count": 1,
   "id": "63cd6fd7-c1f4-4bba-ad9f-e4ab1d41424c",
   "metadata": {},
   "outputs": [],
   "source": [
    "from nav2_simple_commander.robot_navigator import BasicNavigator\n",
    "import rclpy\n",
    "\n",
    "rclpy.init()\n",
    "nav = BasicNavigator()"
   ]
  },
  {
   "cell_type": "code",
   "execution_count": 2,
   "id": "c77ff494-9005-47a5-a16e-4766ec63b936",
   "metadata": {},
   "outputs": [
    {
     "name": "stderr",
     "output_type": "stream",
     "text": [
      "[INFO] [1761100549.130599805] [basic_navigator]: Nav2 is ready for use!\n"
     ]
    }
   ],
   "source": [
    "nav.waitUntilNav2Active()"
   ]
  },
  {
   "cell_type": "code",
   "execution_count": 3,
   "id": "86ce82a3-3d33-4048-8f6d-39b1f88ea54e",
   "metadata": {},
   "outputs": [],
   "source": [
    "import math\n",
    "import tf_transformations\n",
    "\n",
    "def get_quaternion_from_yaw(yaw_degrees):\n",
    "    yaw_radians = math.radians(yaw_degrees)\n",
    "\n",
    "    quaternion = tf_transformations.quaternion_from_euler(0, 0, yaw_radians)\n",
    "\n",
    "    return quaternion"
   ]
  },
  {
   "cell_type": "code",
   "execution_count": 4,
   "id": "57508462-e9d0-4614-a62a-b84faeca9dff",
   "metadata": {},
   "outputs": [
    {
     "name": "stderr",
     "output_type": "stream",
     "text": [
      "[INFO] [1761100691.241287196] [basic_navigator]: Publishing Initial Pose\n"
     ]
    }
   ],
   "source": [
    "from geometry_msgs.msg import PoseStamped\n",
    "\n",
    "initial_yaw = 0\n",
    "q = get_quaternion_from_yaw(initial_yaw)\n",
    "\n",
    "initial_pose = PoseStamped()\n",
    "initial_pose.header.frame_id = \"map\"\n",
    "initial_pose.header.stamp = nav.get_clock().now().to_msg()\n",
    "initial_pose.pose.position.x = 0.0\n",
    "initial_pose.pose.position.y = 0.0\n",
    "initial_pose.pose.position.z = 0.0\n",
    "initial_pose.pose.orientation.x = q[0]\n",
    "initial_pose.pose.orientation.y = q[1]\n",
    "initial_pose.pose.orientation.z = q[2]\n",
    "initial_pose.pose.orientation.w = q[3]\n",
    "nav.setInitialPose(initial_pose)"
   ]
  },
  {
   "cell_type": "code",
   "execution_count": 5,
   "id": "90109ef9",
   "metadata": {},
   "outputs": [],
   "source": [
    "sub_amcl = rclpy.create_node('sub_amcl')"
   ]
  },
  {
   "cell_type": "code",
   "execution_count": 6,
   "id": "706ab5d0",
   "metadata": {},
   "outputs": [],
   "source": [
    "def amcl_callback(msg) :\n",
    "    print(\"===\")\n",
    "    print(msg.pose.pose.position)\n",
    "    print(msg.pose.pose.orientation)"
   ]
  },
  {
   "cell_type": "code",
   "execution_count": 7,
   "id": "24eccc47",
   "metadata": {},
   "outputs": [
    {
     "data": {
      "text/plain": [
       "<rclpy.subscription.Subscription at 0x7a57ce9de150>"
      ]
     },
     "execution_count": 7,
     "metadata": {},
     "output_type": "execute_result"
    }
   ],
   "source": [
    "from geometry_msgs.msg import PoseWithCovarianceStamped\n",
    "\n",
    "sub_amcl.create_subscription(PoseWithCovarianceStamped, 'amcl_pose', amcl_callback, 10)"
   ]
  },
  {
   "cell_type": "code",
   "execution_count": 8,
   "id": "ffb9a3ef",
   "metadata": {},
   "outputs": [],
   "source": [
    "from geometry_msgs.msg import PoseStamped\n",
    "\n",
    "goal_yaw = 180\n",
    "q = get_quaternion_from_yaw(goal_yaw)\n",
    "\n",
    "goal_pose = PoseStamped()\n",
    "goal_pose.header.frame_id = \"map\"\n",
    "goal_pose.header.stamp = nav.get_clock().now().to_msg()\n",
    "goal_pose.pose.position.x = 0.0\n",
    "goal_pose.pose.position.y = 0.0\n",
    "goal_pose.pose.position.z = 0.0\n",
    "goal_pose.pose.orientation.x = q[0]\n",
    "goal_pose.pose.orientation.y = q[1]\n",
    "goal_pose.pose.orientation.z = q[2]\n",
    "goal_pose.pose.orientation.w = q[3]"
   ]
  },
  {
   "cell_type": "code",
   "execution_count": 9,
   "id": "42c27bb0",
   "metadata": {},
   "outputs": [
    {
     "name": "stderr",
     "output_type": "stream",
     "text": [
      "[INFO] [1761100840.573472344] [basic_navigator]: Navigating to goal: 0.0 0.0...\n"
     ]
    },
    {
     "data": {
      "text/plain": [
       "True"
      ]
     },
     "execution_count": 9,
     "metadata": {},
     "output_type": "execute_result"
    }
   ],
   "source": [
    "nav.goToPose(goal_pose)"
   ]
  },
  {
   "cell_type": "code",
   "execution_count": 10,
   "id": "c7872cab",
   "metadata": {},
   "outputs": [],
   "source": [
    "from geometry_msgs.msg import PoseStamped\n",
    "\n",
    "goal_yaw = 90\n",
    "q = get_quaternion_from_yaw(goal_yaw)\n",
    "\n",
    "goal_pose = PoseStamped()\n",
    "goal_pose.header.frame_id = \"map\"\n",
    "goal_pose.header.stamp = nav.get_clock().now().to_msg()\n",
    "goal_pose.pose.position.x = 0.0\n",
    "goal_pose.pose.position.y = 1.0\n",
    "goal_pose.pose.position.z = 0.0\n",
    "goal_pose.pose.orientation.x = q[0]\n",
    "goal_pose.pose.orientation.y = q[1]\n",
    "goal_pose.pose.orientation.z = q[2]\n",
    "goal_pose.pose.orientation.w = q[3]"
   ]
  },
  {
   "cell_type": "code",
   "execution_count": 11,
   "id": "7c26decc",
   "metadata": {},
   "outputs": [
    {
     "name": "stderr",
     "output_type": "stream",
     "text": [
      "[INFO] [1761101037.515622921] [basic_navigator]: Navigating to goal: 0.0 1.0...\n"
     ]
    },
    {
     "data": {
      "text/plain": [
       "True"
      ]
     },
     "execution_count": 11,
     "metadata": {},
     "output_type": "execute_result"
    }
   ],
   "source": [
    "nav.goToPose(goal_pose)"
   ]
  },
  {
   "cell_type": "code",
   "execution_count": 15,
   "id": "5366f4a6",
   "metadata": {},
   "outputs": [],
   "source": [
    "# 주행 중에 실행해서 피드백 받기\n",
    "from rclpy.duration import Duration\n",
    "from IPython.display import clear_output\n",
    "\n",
    "while not nav.isTaskComplete() :\n",
    "    clear_output(wait=True)\n",
    "    rclpy.spin_once(sub_amcl, timeout_sec=1.0)\n",
    "\n",
    "    feedback = nav.getFeedback()\n",
    "    print(\"===\")\n",
    "    print(\"Distance remaining: \" + \"{:.2f}\".format(\n",
    "        feedback.distance_remaining) + \"meters.\")\n",
    "\n",
    "    if Duration.from_msg(feedback.navigation_time) > Duration(seconds = 30.0) :\n",
    "        nav.cancelTask()"
   ]
  },
  {
   "cell_type": "code",
   "execution_count": 16,
   "id": "4d515be8",
   "metadata": {},
   "outputs": [
    {
     "name": "stdout",
     "output_type": "stream",
     "text": [
      "Goal succeeded!\n"
     ]
    }
   ],
   "source": [
    "# 주행 결과 확인\n",
    "from nav2_simple_commander.robot_navigator import TaskResult\n",
    "\n",
    "result=nav.getResult()\n",
    "if result == TaskResult.SUCCEEDED:\n",
    "    print(\"Goal succeeded!\")\n",
    "elif result == TaskResult.CANCELED :\n",
    "    print(\"Goal was canceled!\")\n",
    "elif result == TaskResult.FAILED :\n",
    "    print(\"Goal failed!\")\n",
    "else :\n",
    "    print(\"Goal has an invalid return status!\")\n",
    "    "
   ]
  },
  {
   "cell_type": "code",
   "execution_count": null,
   "id": "0daf169b",
   "metadata": {},
   "outputs": [],
   "source": [
    "# Waypoint list 만들기\n",
    "\n",
    "from geometry_msgs.msg import PoseStamped\n",
    "\n",
    "goal_pose_list = []\n",
    "\n",
    "goal_yaw1 = 0\n",
    "q1 = get_quaternion_from_yaw(goal_yaw1)\n",
    "\n",
    "goal_pose1 = PoseStamped()\n",
    "goal_pose1.header.frame_id = \"map\"\n",
    "goal_pose1.header.stamp = nav.get_clock().now().to_msg()\n",
    "goal_pose1.pose.position.x = 1.31\n",
    "goal_pose1.pose.position.y = 1.0\n",
    "# goal_pose1.pose.position.z = 0.0\n",
    "goal_pose1.pose.orientation.x = q1[0]\n",
    "goal_pose1.pose.orientation.y = q1[1]\n",
    "goal_pose1.pose.orientation.z = q1[2]\n",
    "goal_pose1.pose.orientation.w = q1[3]\n",
    "goal_pose_list.append(goal_pose1)\n",
    "\n",
    "\n",
    "goal_yaw2 = 180\n",
    "q2 = get_quaternion_from_yaw(goal_yaw2)\n",
    "\n",
    "goal_pose2 = PoseStamped()\n",
    "goal_pose2.header.frame_id = \"map\"\n",
    "goal_pose2.header.stamp = nav.get_clock().now().to_msg()\n",
    "goal_pose2.pose.position.x = -1.34\n",
    "goal_pose2.pose.position.y = 1.0\n",
    "# goal_pose2.pose.position.z = 0.0\n",
    "goal_pose2.pose.orientation.x = q2[0]\n",
    "goal_pose2.pose.orientation.y = q2[1]\n",
    "goal_pose2.pose.orientation.z = q2[2]\n",
    "goal_pose2.pose.orientation.w = q2[3]\n",
    "goal_pose_list.append(goal_pose2)\n",
    "\n",
    "\n",
    "goal_yaw3 = 45\n",
    "q3 = get_quaternion_from_yaw(goal_yaw3)\n",
    "\n",
    "goal_pose3 = PoseStamped()\n",
    "goal_pose3.header.frame_id = \"map\"\n",
    "goal_pose3.header.stamp = nav.get_clock().now().to_msg()\n",
    "goal_pose3.pose.position.x = -1.39\n",
    "goal_pose3.pose.position.y = -0.36\n",
    "# goal_pose3.pose.position.z = 0.0\n",
    "goal_pose3.pose.orientation.x = q3[0]\n",
    "goal_pose3.pose.orientation.y = q3[1]\n",
    "goal_pose3.pose.orientation.z = q3[2]\n",
    "goal_pose3.pose.orientation.w = q3[3]\n",
    "goal_pose_list.append(goal_pose3)"
   ]
  },
  {
   "cell_type": "code",
   "execution_count": 19,
   "id": "e93c3adb",
   "metadata": {},
   "outputs": [
    {
     "name": "stderr",
     "output_type": "stream",
     "text": [
      "[INFO] [1761101854.013903271] [basic_navigator]: Following 3 goals....\n"
     ]
    },
    {
     "data": {
      "text/plain": [
       "True"
      ]
     },
     "execution_count": 19,
     "metadata": {},
     "output_type": "execute_result"
    }
   ],
   "source": [
    "nav_start = nav.get_clock().now()\n",
    "nav.followWaypoints(goal_pose_list)"
   ]
  },
  {
   "cell_type": "code",
   "execution_count": 20,
   "id": "8de9480a",
   "metadata": {},
   "outputs": [
    {
     "name": "stdout",
     "output_type": "stream",
     "text": [
      "===\n",
      "Executing current waypoint: 3/3\n"
     ]
    },
    {
     "name": "stderr",
     "output_type": "stream",
     "text": [
      "[INFO] [1761102154.579948992] [basic_navigator]: Canceling current task.\n"
     ]
    }
   ],
   "source": [
    "from rclpy.duration import Duration\n",
    "\n",
    "while not nav.isTaskComplete() :\n",
    "    clear_output(wait=True)\n",
    "    rclpy.spin_once(sub_amcl, timeout_sec=1.0)\n",
    "\n",
    "    feedback = nav.getFeedback()\n",
    "\n",
    "    print(\"===\")\n",
    "    print(\n",
    "        \"Executing current waypoint: \"\n",
    "        + str(feedback.current_waypoint + 1)\n",
    "        + \"/\"\n",
    "        + str(len(goal_pose_list))\n",
    "    )\n",
    "    now = nav.get_clock().now()\n",
    "\n",
    "    if now - nav_start > Duration(seconds = 300.0) :\n",
    "        nav.cancelTask()"
   ]
  }
 ],
 "metadata": {
  "kernelspec": {
   "display_name": "ros",
   "language": "python",
   "name": "python3"
  },
  "language_info": {
   "codemirror_mode": {
    "name": "ipython",
    "version": 3
   },
   "file_extension": ".py",
   "mimetype": "text/x-python",
   "name": "python",
   "nbconvert_exporter": "python",
   "pygments_lexer": "ipython3",
   "version": "3.12.3"
  }
 },
 "nbformat": 4,
 "nbformat_minor": 5
}
